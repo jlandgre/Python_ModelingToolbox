{
 "cells": [
  {
   "cell_type": "markdown",
   "metadata": {},
   "source": [
    "## Modeling\n",
    "Next Steps\n",
    "* Study of grid of ad_spend, units_redeemed trailing averages\n",
    "* Automate plot generation (either Python-generated actual versus predicted sales or integrate predictions with Dashboard \"graphlet\" plots)"
   ]
  },
  {
   "cell_type": "code",
   "execution_count": null,
   "metadata": {},
   "outputs": [],
   "source": [
    "# Import standard libraries and instance helper classes\n",
    "import pandas as pd, numpy as np, datetime as dt\n",
    "from libs.import_classes import instance_classes_model\n",
    "files, tbls, mdl = instance_classes_model(pl_abbr='DWR')\n",
    "\n"
   ]
  },
  {
   "cell_type": "markdown",
   "metadata": {},
   "source": [
    "1. backup\n",
    "2. modify Model to eliminate pl arg\n",
    "3. uncomment writing CSV's in Parse\n",
    "4. set up projtables per below --all needed tables; csv import instructions\n",
    "5. move Merge to Model class and test write (current) tbls.Model.df to Excel\n",
    "5. create TransformIbotta\n",
    "    ** drop redemp_budg_used column\n",
    "    ** consolidate retailer to Walmart, Target, AllOther\n",
    "    ** unstack \n",
    "\n",
    "Modify to create one tbls.Model.df that still has pl_abbr columns\n",
    "* sales and promos cols for each cust; \n",
    "* rows are date_wkstart\n",
    "\n",
    "instance col_info with instance_classes_model\n",
    "for tbl in input_tbls:\n",
    "* set tbl.col_info\n",
    "* .dImportParams = {'ftype':'csv', 'import_path':self.files.xxx, 'lst_files':'df_' + tbl.name + '.csv'}\n",
    "* .ImportToTblDf\n",
    "#good case study for col_info --parse and model both need to set types but only parse needs subset and rename cols\n",
    "#fn to calculate columnn such as cost_total"
   ]
  },
  {
   "cell_type": "code",
   "execution_count": null,
   "metadata": {},
   "outputs": [],
   "source": [
    "mdl.DataPrepProcedure(tbls)\n",
    "tbls.Model.df"
   ]
  },
  {
   "cell_type": "code",
   "execution_count": null,
   "metadata": {},
   "outputs": [],
   "source": [
    "# Procedure to add month name and trailing 2, 3 and 4 week ad_spend, Ibotta\n",
    "mdl.ModelFitProcedure(tbls)\n",
    "tbls.Model.df\n",
    "tbls.Model.df.to_excel('df_Model_fit.xlsx', index=False)"
   ]
  },
  {
   "cell_type": "code",
   "execution_count": null,
   "metadata": {},
   "outputs": [],
   "source": []
  },
  {
   "cell_type": "code",
   "execution_count": null,
   "metadata": {},
   "outputs": [],
   "source": []
  },
  {
   "cell_type": "code",
   "execution_count": null,
   "metadata": {},
   "outputs": [],
   "source": [
    "import pandas as pd\n",
    "\n",
    "# Example dataset\n",
    "data = {\n",
    "    'date_wkstart': ['2025-04-01', '2025-04-08', '2025-04-15', '2025-04-22', '2025-04-29'],\n",
    "    'ad_spend': [100, 200, 300, 400, 500]\n",
    "}\n",
    "\n",
    "# Convert to DataFrame\n",
    "tbls = type('Tbls', (object,), {})()  # Mock tbls object\n",
    "tbls.Model = type('ModelTable', (object,), {})()  # Mock Model object\n",
    "tbls.Model.df = pd.DataFrame(data)\n",
    "\n",
    "# Convert date_wkstart to datetime.date\n",
    "tbls.Model.df['date_wkstart'] = pd.to_datetime(tbls.Model.df['date_wkstart']).dt.date\n",
    "\n",
    "# Print initial DataFrame\n",
    "print(\"Initial DataFrame:\")\n",
    "print(tbls.Model.df)"
   ]
  },
  {
   "cell_type": "code",
   "execution_count": null,
   "metadata": {},
   "outputs": [],
   "source": [
    "# Define the AddTrailingAverages method\n",
    "def AdSpendTrailAvgs(tbls):\n",
    "    \"\"\"\n",
    "    Add trailing avg ad_spend cols (2pt, 3pt, 4pt)\n",
    "    Avgs use  previous n rows (e.g. not current).\n",
    "    4/1/25\n",
    "    \"\"\"\n",
    "    for n in range(2, 5):\n",
    "        col = f'ad_spend_{n}pt_avg'\n",
    "        tbls.Model.df[col] = \\\n",
    "            tbls.Model.df['ad_spend'].shift(1).rolling(window=n).mean()\n",
    "\n",
    "# Apply the method\n",
    "AdSpendTrailAvgs(tbls)\n",
    "\n",
    "# Print the resulting DataFrame\n",
    "print(\"\\nDataFrame After Adding Trailing Averages:\")\n",
    "print(tbls.Model.df)"
   ]
  },
  {
   "cell_type": "markdown",
   "metadata": {},
   "source": [
    "### Unstack Within Tables/Table Architecture\n",
    "JDL 5/22/25"
   ]
  },
  {
   "cell_type": "code",
   "execution_count": 1,
   "metadata": {},
   "outputs": [
    {
     "name": "stdout",
     "output_type": "stream",
     "text": [
      "\n",
      "Raw Data multiindex columns: ['date_wkstart', 'pl_abbr', 'retailer'] \n",
      "\n"
     ]
    },
    {
     "data": {
      "text/html": [
       "<div>\n",
       "<style scoped>\n",
       "    .dataframe tbody tr th:only-of-type {\n",
       "        vertical-align: middle;\n",
       "    }\n",
       "\n",
       "    .dataframe tbody tr th {\n",
       "        vertical-align: top;\n",
       "    }\n",
       "\n",
       "    .dataframe thead th {\n",
       "        text-align: right;\n",
       "    }\n",
       "</style>\n",
       "<table border=\"1\" class=\"dataframe\">\n",
       "  <thead>\n",
       "    <tr style=\"text-align: right;\">\n",
       "      <th></th>\n",
       "      <th>date_wkstart</th>\n",
       "      <th>pl_abbr</th>\n",
       "      <th>retailer</th>\n",
       "      <th>units_redeemed</th>\n",
       "    </tr>\n",
       "  </thead>\n",
       "  <tbody>\n",
       "    <tr>\n",
       "      <th>0</th>\n",
       "      <td>2025-04-01</td>\n",
       "      <td>ProdA</td>\n",
       "      <td>WMT</td>\n",
       "      <td>100</td>\n",
       "    </tr>\n",
       "    <tr>\n",
       "      <th>1</th>\n",
       "      <td>2025-04-08</td>\n",
       "      <td>ProdB</td>\n",
       "      <td>WMT</td>\n",
       "      <td>200</td>\n",
       "    </tr>\n",
       "    <tr>\n",
       "      <th>2</th>\n",
       "      <td>2025-04-15</td>\n",
       "      <td>ProdA</td>\n",
       "      <td>WMT</td>\n",
       "      <td>300</td>\n",
       "    </tr>\n",
       "    <tr>\n",
       "      <th>3</th>\n",
       "      <td>2025-04-01</td>\n",
       "      <td>ProdB</td>\n",
       "      <td>TGT</td>\n",
       "      <td>400</td>\n",
       "    </tr>\n",
       "    <tr>\n",
       "      <th>4</th>\n",
       "      <td>2025-04-08</td>\n",
       "      <td>ProdA</td>\n",
       "      <td>TGT</td>\n",
       "      <td>500</td>\n",
       "    </tr>\n",
       "    <tr>\n",
       "      <th>5</th>\n",
       "      <td>2025-04-15</td>\n",
       "      <td>ProdA</td>\n",
       "      <td>TGT</td>\n",
       "      <td>600</td>\n",
       "    </tr>\n",
       "  </tbody>\n",
       "</table>\n",
       "</div>"
      ],
      "text/plain": [
       "  date_wkstart pl_abbr retailer  units_redeemed\n",
       "0   2025-04-01   ProdA      WMT             100\n",
       "1   2025-04-08   ProdB      WMT             200\n",
       "2   2025-04-15   ProdA      WMT             300\n",
       "3   2025-04-01   ProdB      TGT             400\n",
       "4   2025-04-08   ProdA      TGT             500\n",
       "5   2025-04-15   ProdA      TGT             600"
      ]
     },
     "execution_count": 1,
     "metadata": {},
     "output_type": "execute_result"
    }
   ],
   "source": [
    "import pandas as pd\n",
    "\n",
    "def InstanceClassMockup(class_name):\n",
    "    \"\"\"\n",
    "    Create blank, generic object for attribute assignment in test/demo scripts\n",
    "    JDL 5/22/25\n",
    "    \"\"\"\n",
    "    return type(class_name, (object,), {})()\n",
    "\n",
    "# Example dataset with three key columns and one value column\n",
    "data = {'date_wkstart': 2 * ['2025-04-01', '2025-04-08', '2025-04-15'],\n",
    "    'pl_abbr': ['ProdA', 'ProdB', 'ProdA', 'ProdB', 'ProdA', 'ProdA'],\n",
    "    'retailer': 3 * ['WMT'] + 3 * ['TGT'],\n",
    "    'units_redeemed': [100, 200, 300, 400, 500, 600]}\n",
    "\n",
    "# Mock Tables collection and individual Table instances\n",
    "tbls = InstanceClassMockup('Tables')\n",
    "tbls.ModelRaw, tbls.Model = InstanceClassMockup('Table'), InstanceClassMockup('Table')\n",
    "\n",
    "# Set index list/col name attribute\n",
    "tbls.ModelRaw.idx = ['date_wkstart', 'pl_abbr', 'retailer']\n",
    "\n",
    "# Set raw data .df from example dataset\n",
    "tbls.ModelRaw.df = pd.DataFrame(data)\n",
    "print('\\nRaw Data multiindex columns:', tbls.ModelRaw.idx, '\\n')\n",
    "tbls.ModelRaw.df"
   ]
  },
  {
   "cell_type": "code",
   "execution_count": null,
   "metadata": {},
   "outputs": [],
   "source": [
    "\"\"\"\n",
    "*** Procedure to pivot raw data to new Table/DataFrame ***\n",
    "Pandas unstack pivots a value column's data on the last index column in a multiindex while\n",
    "maintaining data correspondence with the other multiindex columns. It names the\n",
    "resulting columns with the values from pivot column and names the df columns the pivot column \n",
    "name. To keep clarity on the values, we rename unstacked columns to be original column \n",
    "name + the pivot column values suffix. We also delete the df columns name as superfluous.\n",
    "\n",
    "JDL 5/22/25\n",
    "\"\"\"\n",
    "class Model:\n",
    "    def UnstackRawDataProcedure(self, tbl_raw, tbl_final, col_values):\n",
    "        \"\"\"\n",
    "        Pivot raw data to unstacked format\n",
    "        \"\"\"\n",
    "        self.CopyAndSetIndex(tbl_raw, tbl_final)\n",
    "        self.UnstackValuesAndSetColNames(tbl_raw, tbl_final, col_values)\n",
    "        \n",
    "    def CopyAndSetIndex(self, tbl_raw, tbl_final):\n",
    "        \"\"\"\n",
    "        Set multiindex for raw data DataFrame\n",
    "        \"\"\"\n",
    "        tbl_final.df = tbl_raw.df.copy().set_index(tbl_raw.idx)\n",
    "\n",
    "    def UnstackValuesAndSetColNames(self, tbl_raw, tbl_final, col_values):\n",
    "        \"\"\"\n",
    "        Unstack and set column names based on last key in index\n",
    "        \"\"\"\n",
    "        tbl_final.df = tbl_final.df[col_values].unstack()\n",
    "        unstack_key = tbl_raw.idx[-1]\n",
    "\n",
    "        # Rename columns to keep continuity to col_values name\n",
    "        dict_cols = {col: col_values + f'_{col}' for col in tbl_final.df.columns}\n",
    "        tbl_final.df = tbl_final.df.rename(columns=dict_cols)\n",
    "        \n",
    "        # Remove columns name created by unstack\n",
    "        tbl_final.df.columns.name = None"
   ]
  },
  {
   "cell_type": "code",
   "execution_count": 3,
   "metadata": {},
   "outputs": [
    {
     "name": "stdout",
     "output_type": "stream",
     "text": [
      "\n",
      "Raw data with multiindex:\n",
      "                                units_redeemed\n",
      "date_wkstart pl_abbr retailer                \n",
      "2025-04-01   ProdA   WMT                  100\n",
      "2025-04-08   ProdB   WMT                  200\n",
      "2025-04-15   ProdA   WMT                  300\n",
      "2025-04-01   ProdB   TGT                  400\n",
      "2025-04-08   ProdA   TGT                  500\n",
      "2025-04-15   ProdA   TGT                  600\n",
      "\n",
      "Unstacked data with new column names:\n",
      "                       units_redeemed_TGT  units_redeemed_WMT\n",
      "date_wkstart pl_abbr                                        \n",
      "2025-04-01   ProdA                   NaN               100.0\n",
      "             ProdB                 400.0                 NaN\n",
      "2025-04-08   ProdA                 500.0                 NaN\n",
      "             ProdB                   NaN               200.0\n",
      "2025-04-15   ProdA                 600.0               300.0\n"
     ]
    }
   ],
   "source": [
    "#Demo with individual methods\n",
    "mdl = Model()\n",
    "mdl.CopyAndSetIndex(tbls.ModelRaw, tbls.Model)\n",
    "print('\\nRaw data with multiindex:\\n', tbls.Model.df)\n",
    "mdl.UnstackValuesAndSetColNames(tbls.ModelRaw, tbls.Model, 'units_redeemed')\n",
    "print('\\nUnstacked data with new column names:\\n', tbls.Model.df)"
   ]
  },
  {
   "cell_type": "code",
   "execution_count": 4,
   "metadata": {},
   "outputs": [
    {
     "data": {
      "text/html": [
       "<div>\n",
       "<style scoped>\n",
       "    .dataframe tbody tr th:only-of-type {\n",
       "        vertical-align: middle;\n",
       "    }\n",
       "\n",
       "    .dataframe tbody tr th {\n",
       "        vertical-align: top;\n",
       "    }\n",
       "\n",
       "    .dataframe thead th {\n",
       "        text-align: right;\n",
       "    }\n",
       "</style>\n",
       "<table border=\"1\" class=\"dataframe\">\n",
       "  <thead>\n",
       "    <tr style=\"text-align: right;\">\n",
       "      <th></th>\n",
       "      <th></th>\n",
       "      <th>units_redeemed_TGT</th>\n",
       "      <th>units_redeemed_WMT</th>\n",
       "    </tr>\n",
       "    <tr>\n",
       "      <th>date_wkstart</th>\n",
       "      <th>pl_abbr</th>\n",
       "      <th></th>\n",
       "      <th></th>\n",
       "    </tr>\n",
       "  </thead>\n",
       "  <tbody>\n",
       "    <tr>\n",
       "      <th rowspan=\"2\" valign=\"top\">2025-04-01</th>\n",
       "      <th>ProdA</th>\n",
       "      <td>NaN</td>\n",
       "      <td>100.0</td>\n",
       "    </tr>\n",
       "    <tr>\n",
       "      <th>ProdB</th>\n",
       "      <td>400.0</td>\n",
       "      <td>NaN</td>\n",
       "    </tr>\n",
       "    <tr>\n",
       "      <th rowspan=\"2\" valign=\"top\">2025-04-08</th>\n",
       "      <th>ProdA</th>\n",
       "      <td>500.0</td>\n",
       "      <td>NaN</td>\n",
       "    </tr>\n",
       "    <tr>\n",
       "      <th>ProdB</th>\n",
       "      <td>NaN</td>\n",
       "      <td>200.0</td>\n",
       "    </tr>\n",
       "    <tr>\n",
       "      <th>2025-04-15</th>\n",
       "      <th>ProdA</th>\n",
       "      <td>600.0</td>\n",
       "      <td>300.0</td>\n",
       "    </tr>\n",
       "  </tbody>\n",
       "</table>\n",
       "</div>"
      ],
      "text/plain": [
       "                      units_redeemed_TGT  units_redeemed_WMT\n",
       "date_wkstart pl_abbr                                        \n",
       "2025-04-01   ProdA                   NaN               100.0\n",
       "             ProdB                 400.0                 NaN\n",
       "2025-04-08   ProdA                 500.0                 NaN\n",
       "             ProdB                   NaN               200.0\n",
       "2025-04-15   ProdA                 600.0               300.0"
      ]
     },
     "metadata": {},
     "output_type": "display_data"
    }
   ],
   "source": [
    "#Demo with Procedure call\n",
    "mdl = Model()\n",
    "mdl.UnstackRawDataProcedure(tbls.ModelRaw, tbls.Model, 'units_redeemed')\n",
    "display(tbls.Model.df)"
   ]
  },
  {
   "cell_type": "code",
   "execution_count": null,
   "metadata": {},
   "outputs": [],
   "source": []
  }
 ],
 "metadata": {
  "kernelspec": {
   "display_name": "base",
   "language": "python",
   "name": "python3"
  },
  "language_info": {
   "codemirror_mode": {
    "name": "ipython",
    "version": 3
   },
   "file_extension": ".py",
   "mimetype": "text/x-python",
   "name": "python",
   "nbconvert_exporter": "python",
   "pygments_lexer": "ipython3",
   "version": "3.12.7"
  }
 },
 "nbformat": 4,
 "nbformat_minor": 2
}
